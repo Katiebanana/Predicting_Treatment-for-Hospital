{
 "cells": [
  {
   "cell_type": "markdown",
   "metadata": {},
   "source": [
    "importing initial relevant libraries"
   ]
  },
  {
   "cell_type": "code",
   "execution_count": 1,
   "metadata": {},
   "outputs": [],
   "source": [
    "import pandas as pd\n",
    "import numpy as np"
   ]
  },
  {
   "cell_type": "markdown",
   "metadata": {},
   "source": [
    "# Data Loading"
   ]
  },
  {
   "cell_type": "code",
   "execution_count": 2,
   "metadata": {},
   "outputs": [],
   "source": [
    "data=pd.read_csv(\"ps2_public.csv\")"
   ]
  },
  {
   "cell_type": "code",
   "execution_count": 3,
   "metadata": {
    "scrolled": true
   },
   "outputs": [
    {
     "data": {
      "text/html": [
       "<div>\n",
       "<style scoped>\n",
       "    .dataframe tbody tr th:only-of-type {\n",
       "        vertical-align: middle;\n",
       "    }\n",
       "\n",
       "    .dataframe tbody tr th {\n",
       "        vertical-align: top;\n",
       "    }\n",
       "\n",
       "    .dataframe thead th {\n",
       "        text-align: right;\n",
       "    }\n",
       "</style>\n",
       "<table border=\"1\" class=\"dataframe\">\n",
       "  <thead>\n",
       "    <tr style=\"text-align: right;\">\n",
       "      <th></th>\n",
       "      <th>treatment</th>\n",
       "      <th>age</th>\n",
       "      <th>blood_pressure</th>\n",
       "      <th>gender</th>\n",
       "      <th>blood_test</th>\n",
       "      <th>family_history</th>\n",
       "      <th>TestA</th>\n",
       "      <th>TestB</th>\n",
       "      <th>GeneC</th>\n",
       "      <th>GeneD</th>\n",
       "      <th>GeneE</th>\n",
       "      <th>GeneF</th>\n",
       "    </tr>\n",
       "  </thead>\n",
       "  <tbody>\n",
       "    <tr>\n",
       "      <th>0</th>\n",
       "      <td>0</td>\n",
       "      <td>64</td>\n",
       "      <td>103.820809</td>\n",
       "      <td>non-female</td>\n",
       "      <td>negative</td>\n",
       "      <td>False</td>\n",
       "      <td>4.334376</td>\n",
       "      <td>0.324374</td>\n",
       "      <td>not active</td>\n",
       "      <td>1</td>\n",
       "      <td>1</td>\n",
       "      <td>0</td>\n",
       "    </tr>\n",
       "    <tr>\n",
       "      <th>1</th>\n",
       "      <td>0</td>\n",
       "      <td>52</td>\n",
       "      <td>107.071369</td>\n",
       "      <td>female</td>\n",
       "      <td>negative</td>\n",
       "      <td>False</td>\n",
       "      <td>0.361847</td>\n",
       "      <td>-0.213014</td>\n",
       "      <td>active</td>\n",
       "      <td>1</td>\n",
       "      <td>0</td>\n",
       "      <td>0</td>\n",
       "    </tr>\n",
       "    <tr>\n",
       "      <th>2</th>\n",
       "      <td>1</td>\n",
       "      <td>55</td>\n",
       "      <td>113.116130</td>\n",
       "      <td>female</td>\n",
       "      <td>positive</td>\n",
       "      <td>False</td>\n",
       "      <td>3.611842</td>\n",
       "      <td>-0.071740</td>\n",
       "      <td>not active</td>\n",
       "      <td>0</td>\n",
       "      <td>0</td>\n",
       "      <td>1</td>\n",
       "    </tr>\n",
       "    <tr>\n",
       "      <th>3</th>\n",
       "      <td>0</td>\n",
       "      <td>45</td>\n",
       "      <td>83.760932</td>\n",
       "      <td>female</td>\n",
       "      <td>negative</td>\n",
       "      <td>NaN</td>\n",
       "      <td>-5.282537</td>\n",
       "      <td>-0.237121</td>\n",
       "      <td>active</td>\n",
       "      <td>0</td>\n",
       "      <td>0</td>\n",
       "      <td>0</td>\n",
       "    </tr>\n",
       "    <tr>\n",
       "      <th>4</th>\n",
       "      <td>0</td>\n",
       "      <td>58</td>\n",
       "      <td>131.135933</td>\n",
       "      <td>female</td>\n",
       "      <td>negative</td>\n",
       "      <td>False</td>\n",
       "      <td>2.787207</td>\n",
       "      <td>0.195470</td>\n",
       "      <td>not active</td>\n",
       "      <td>0</td>\n",
       "      <td>1</td>\n",
       "      <td>1</td>\n",
       "    </tr>\n",
       "  </tbody>\n",
       "</table>\n",
       "</div>"
      ],
      "text/plain": [
       "   treatment  age  blood_pressure      gender blood_test family_history  \\\n",
       "0          0   64      103.820809  non-female   negative          False   \n",
       "1          0   52      107.071369      female   negative          False   \n",
       "2          1   55      113.116130      female   positive          False   \n",
       "3          0   45       83.760932      female   negative            NaN   \n",
       "4          0   58      131.135933      female   negative          False   \n",
       "\n",
       "      TestA     TestB       GeneC  GeneD  GeneE  GeneF  \n",
       "0  4.334376  0.324374  not active      1      1      0  \n",
       "1  0.361847 -0.213014      active      1      0      0  \n",
       "2  3.611842 -0.071740  not active      0      0      1  \n",
       "3 -5.282537 -0.237121      active      0      0      0  \n",
       "4  2.787207  0.195470  not active      0      1      1  "
      ]
     },
     "execution_count": 3,
     "metadata": {},
     "output_type": "execute_result"
    }
   ],
   "source": [
    "data.head()"
   ]
  },
  {
   "cell_type": "markdown",
   "metadata": {},
   "source": [
    "# Data Exploration"
   ]
  },
  {
   "cell_type": "code",
   "execution_count": 4,
   "metadata": {},
   "outputs": [],
   "source": [
    "import matplotlib.pyplot as plt \n",
    "%matplotlib inline\n",
    "from matplotlib.patches import Polygon"
   ]
  },
  {
   "cell_type": "code",
   "execution_count": 5,
   "metadata": {},
   "outputs": [
    {
     "data": {
      "text/html": [
       "<div>\n",
       "<style scoped>\n",
       "    .dataframe tbody tr th:only-of-type {\n",
       "        vertical-align: middle;\n",
       "    }\n",
       "\n",
       "    .dataframe tbody tr th {\n",
       "        vertical-align: top;\n",
       "    }\n",
       "\n",
       "    .dataframe thead th {\n",
       "        text-align: right;\n",
       "    }\n",
       "</style>\n",
       "<table border=\"1\" class=\"dataframe\">\n",
       "  <thead>\n",
       "    <tr style=\"text-align: right;\">\n",
       "      <th></th>\n",
       "      <th>treatment</th>\n",
       "      <th>age</th>\n",
       "      <th>blood_pressure</th>\n",
       "      <th>TestA</th>\n",
       "      <th>TestB</th>\n",
       "      <th>GeneD</th>\n",
       "      <th>GeneE</th>\n",
       "      <th>GeneF</th>\n",
       "    </tr>\n",
       "  </thead>\n",
       "  <tbody>\n",
       "    <tr>\n",
       "      <th>count</th>\n",
       "      <td>7500.000000</td>\n",
       "      <td>7500.000000</td>\n",
       "      <td>7500.000000</td>\n",
       "      <td>7500.000000</td>\n",
       "      <td>7500.000000</td>\n",
       "      <td>7500.000000</td>\n",
       "      <td>7500.000000</td>\n",
       "      <td>7500.000000</td>\n",
       "    </tr>\n",
       "    <tr>\n",
       "      <th>mean</th>\n",
       "      <td>0.552533</td>\n",
       "      <td>59.978000</td>\n",
       "      <td>101.023910</td>\n",
       "      <td>3.983448</td>\n",
       "      <td>-0.000590</td>\n",
       "      <td>0.549467</td>\n",
       "      <td>0.550667</td>\n",
       "      <td>0.551200</td>\n",
       "    </tr>\n",
       "    <tr>\n",
       "      <th>std</th>\n",
       "      <td>0.497266</td>\n",
       "      <td>8.100115</td>\n",
       "      <td>36.128945</td>\n",
       "      <td>4.162343</td>\n",
       "      <td>0.171500</td>\n",
       "      <td>0.497580</td>\n",
       "      <td>0.497459</td>\n",
       "      <td>0.497405</td>\n",
       "    </tr>\n",
       "    <tr>\n",
       "      <th>min</th>\n",
       "      <td>0.000000</td>\n",
       "      <td>29.000000</td>\n",
       "      <td>-999.000000</td>\n",
       "      <td>-11.699344</td>\n",
       "      <td>-0.288422</td>\n",
       "      <td>0.000000</td>\n",
       "      <td>0.000000</td>\n",
       "      <td>0.000000</td>\n",
       "    </tr>\n",
       "    <tr>\n",
       "      <th>25%</th>\n",
       "      <td>0.000000</td>\n",
       "      <td>54.000000</td>\n",
       "      <td>91.802997</td>\n",
       "      <td>1.117443</td>\n",
       "      <td>-0.134452</td>\n",
       "      <td>0.000000</td>\n",
       "      <td>0.000000</td>\n",
       "      <td>0.000000</td>\n",
       "    </tr>\n",
       "    <tr>\n",
       "      <th>50%</th>\n",
       "      <td>1.000000</td>\n",
       "      <td>60.000000</td>\n",
       "      <td>99.814330</td>\n",
       "      <td>3.991237</td>\n",
       "      <td>-0.027296</td>\n",
       "      <td>1.000000</td>\n",
       "      <td>1.000000</td>\n",
       "      <td>1.000000</td>\n",
       "    </tr>\n",
       "    <tr>\n",
       "      <th>75%</th>\n",
       "      <td>1.000000</td>\n",
       "      <td>65.000000</td>\n",
       "      <td>110.095869</td>\n",
       "      <td>6.784449</td>\n",
       "      <td>0.101578</td>\n",
       "      <td>1.000000</td>\n",
       "      <td>1.000000</td>\n",
       "      <td>1.000000</td>\n",
       "    </tr>\n",
       "    <tr>\n",
       "      <th>max</th>\n",
       "      <td>1.000000</td>\n",
       "      <td>93.000000</td>\n",
       "      <td>157.471226</td>\n",
       "      <td>21.386412</td>\n",
       "      <td>0.740719</td>\n",
       "      <td>1.000000</td>\n",
       "      <td>1.000000</td>\n",
       "      <td>1.000000</td>\n",
       "    </tr>\n",
       "  </tbody>\n",
       "</table>\n",
       "</div>"
      ],
      "text/plain": [
       "         treatment          age  blood_pressure        TestA        TestB  \\\n",
       "count  7500.000000  7500.000000     7500.000000  7500.000000  7500.000000   \n",
       "mean      0.552533    59.978000      101.023910     3.983448    -0.000590   \n",
       "std       0.497266     8.100115       36.128945     4.162343     0.171500   \n",
       "min       0.000000    29.000000     -999.000000   -11.699344    -0.288422   \n",
       "25%       0.000000    54.000000       91.802997     1.117443    -0.134452   \n",
       "50%       1.000000    60.000000       99.814330     3.991237    -0.027296   \n",
       "75%       1.000000    65.000000      110.095869     6.784449     0.101578   \n",
       "max       1.000000    93.000000      157.471226    21.386412     0.740719   \n",
       "\n",
       "             GeneD        GeneE        GeneF  \n",
       "count  7500.000000  7500.000000  7500.000000  \n",
       "mean      0.549467     0.550667     0.551200  \n",
       "std       0.497580     0.497459     0.497405  \n",
       "min       0.000000     0.000000     0.000000  \n",
       "25%       0.000000     0.000000     0.000000  \n",
       "50%       1.000000     1.000000     1.000000  \n",
       "75%       1.000000     1.000000     1.000000  \n",
       "max       1.000000     1.000000     1.000000  "
      ]
     },
     "execution_count": 5,
     "metadata": {},
     "output_type": "execute_result"
    }
   ],
   "source": [
    "data.describe()"
   ]
  },
  {
   "cell_type": "code",
   "execution_count": 6,
   "metadata": {},
   "outputs": [],
   "source": [
    "# take out unreasonable outlier cases where blood pressure is -999\n",
    "data=data.loc[data[\"blood_pressure\"]!=-999]"
   ]
  },
  {
   "cell_type": "code",
   "execution_count": 7,
   "metadata": {},
   "outputs": [
    {
     "data": {
      "text/html": [
       "<div>\n",
       "<style scoped>\n",
       "    .dataframe tbody tr th:only-of-type {\n",
       "        vertical-align: middle;\n",
       "    }\n",
       "\n",
       "    .dataframe tbody tr th {\n",
       "        vertical-align: top;\n",
       "    }\n",
       "\n",
       "    .dataframe thead th {\n",
       "        text-align: right;\n",
       "    }\n",
       "</style>\n",
       "<table border=\"1\" class=\"dataframe\">\n",
       "  <thead>\n",
       "    <tr style=\"text-align: right;\">\n",
       "      <th></th>\n",
       "      <th>treatment</th>\n",
       "      <th>age</th>\n",
       "      <th>blood_pressure</th>\n",
       "      <th>TestA</th>\n",
       "      <th>TestB</th>\n",
       "      <th>GeneD</th>\n",
       "      <th>GeneE</th>\n",
       "      <th>GeneF</th>\n",
       "    </tr>\n",
       "  </thead>\n",
       "  <tbody>\n",
       "    <tr>\n",
       "      <th>count</th>\n",
       "      <td>7493.000000</td>\n",
       "      <td>7493.000000</td>\n",
       "      <td>7493.000000</td>\n",
       "      <td>7493.000000</td>\n",
       "      <td>7493.000000</td>\n",
       "      <td>7493.000000</td>\n",
       "      <td>7493.000000</td>\n",
       "      <td>7493.000000</td>\n",
       "    </tr>\n",
       "    <tr>\n",
       "      <th>mean</th>\n",
       "      <td>0.552249</td>\n",
       "      <td>59.980782</td>\n",
       "      <td>102.051558</td>\n",
       "      <td>3.984596</td>\n",
       "      <td>-0.000486</td>\n",
       "      <td>0.549446</td>\n",
       "      <td>0.550781</td>\n",
       "      <td>0.551048</td>\n",
       "    </tr>\n",
       "    <tr>\n",
       "      <th>std</th>\n",
       "      <td>0.497296</td>\n",
       "      <td>8.100322</td>\n",
       "      <td>13.224057</td>\n",
       "      <td>4.162921</td>\n",
       "      <td>0.171513</td>\n",
       "      <td>0.497582</td>\n",
       "      <td>0.497448</td>\n",
       "      <td>0.497421</td>\n",
       "    </tr>\n",
       "    <tr>\n",
       "      <th>min</th>\n",
       "      <td>0.000000</td>\n",
       "      <td>29.000000</td>\n",
       "      <td>80.099114</td>\n",
       "      <td>-11.699344</td>\n",
       "      <td>-0.288422</td>\n",
       "      <td>0.000000</td>\n",
       "      <td>0.000000</td>\n",
       "      <td>0.000000</td>\n",
       "    </tr>\n",
       "    <tr>\n",
       "      <th>25%</th>\n",
       "      <td>0.000000</td>\n",
       "      <td>54.000000</td>\n",
       "      <td>91.811651</td>\n",
       "      <td>1.118284</td>\n",
       "      <td>-0.134448</td>\n",
       "      <td>0.000000</td>\n",
       "      <td>0.000000</td>\n",
       "      <td>0.000000</td>\n",
       "    </tr>\n",
       "    <tr>\n",
       "      <th>50%</th>\n",
       "      <td>1.000000</td>\n",
       "      <td>60.000000</td>\n",
       "      <td>99.822705</td>\n",
       "      <td>3.991453</td>\n",
       "      <td>-0.027127</td>\n",
       "      <td>1.000000</td>\n",
       "      <td>1.000000</td>\n",
       "      <td>1.000000</td>\n",
       "    </tr>\n",
       "    <tr>\n",
       "      <th>75%</th>\n",
       "      <td>1.000000</td>\n",
       "      <td>65.000000</td>\n",
       "      <td>110.117589</td>\n",
       "      <td>6.785461</td>\n",
       "      <td>0.101723</td>\n",
       "      <td>1.000000</td>\n",
       "      <td>1.000000</td>\n",
       "      <td>1.000000</td>\n",
       "    </tr>\n",
       "    <tr>\n",
       "      <th>max</th>\n",
       "      <td>1.000000</td>\n",
       "      <td>93.000000</td>\n",
       "      <td>157.471226</td>\n",
       "      <td>21.386412</td>\n",
       "      <td>0.740719</td>\n",
       "      <td>1.000000</td>\n",
       "      <td>1.000000</td>\n",
       "      <td>1.000000</td>\n",
       "    </tr>\n",
       "  </tbody>\n",
       "</table>\n",
       "</div>"
      ],
      "text/plain": [
       "         treatment          age  blood_pressure        TestA        TestB  \\\n",
       "count  7493.000000  7493.000000     7493.000000  7493.000000  7493.000000   \n",
       "mean      0.552249    59.980782      102.051558     3.984596    -0.000486   \n",
       "std       0.497296     8.100322       13.224057     4.162921     0.171513   \n",
       "min       0.000000    29.000000       80.099114   -11.699344    -0.288422   \n",
       "25%       0.000000    54.000000       91.811651     1.118284    -0.134448   \n",
       "50%       1.000000    60.000000       99.822705     3.991453    -0.027127   \n",
       "75%       1.000000    65.000000      110.117589     6.785461     0.101723   \n",
       "max       1.000000    93.000000      157.471226    21.386412     0.740719   \n",
       "\n",
       "             GeneD        GeneE        GeneF  \n",
       "count  7493.000000  7493.000000  7493.000000  \n",
       "mean      0.549446     0.550781     0.551048  \n",
       "std       0.497582     0.497448     0.497421  \n",
       "min       0.000000     0.000000     0.000000  \n",
       "25%       0.000000     0.000000     0.000000  \n",
       "50%       1.000000     1.000000     1.000000  \n",
       "75%       1.000000     1.000000     1.000000  \n",
       "max       1.000000     1.000000     1.000000  "
      ]
     },
     "execution_count": 7,
     "metadata": {},
     "output_type": "execute_result"
    }
   ],
   "source": [
    "data.describe()"
   ]
  },
  {
   "cell_type": "code",
   "execution_count": 8,
   "metadata": {
    "scrolled": false
   },
   "outputs": [
    {
     "data": {
      "image/png": "[encoded data removed]",
      "text/plain": [
       "<Figure size 432x288 with 1 Axes>"
      ]
     },
     "metadata": {
      "needs_background": "light"
     },
     "output_type": "display_data"
    }
   ],
   "source": [
    "# boxplots comparing blood pressure of patients that received treatment vs. no treatment\n",
    "bp_treatment=data.loc[data[\"treatment\"]==1,[\"blood_pressure\"]]\n",
    "bp_no_treatment=data.loc[data[\"treatment\"]==0,[\"blood_pressure\"]]\n",
    "bp=pd.concat([bp_treatment,bp_no_treatment],axis=1)\n",
    "bp.columns=[\"bp_treatment\",\"bp_no_treatment\"]\n",
    "boxplot = bp.boxplot(column=[\"bp_treatment\",\"bp_no_treatment\"])"
   ]
  },
  {
   "cell_type": "code",
   "execution_count": 9,
   "metadata": {},
   "outputs": [
    {
     "data": {
      "text/plain": [
       "Text(0.5, 1.0, 'Frequency of treatment based on gender')"
      ]
     },
     "execution_count": 9,
     "metadata": {},
     "output_type": "execute_result"
    },
    {
     "data": {
      "image/png": "[encoded data removed]",
      "text/plain": [
       "<Figure size 432x288 with 1 Axes>"
      ]
     },
     "metadata": {
      "needs_background": "light"
     },
     "output_type": "display_data"
    }
   ],
   "source": [
    "# gender could be a important predictor for treatment\n",
    "pd.crosstab(data.GeneD,data.treatment).plot(kind=\"bar\")\n",
    "plt.xlabel(\"GeneD\")\n",
    "plt.ylabel(\"Treatment\")\n",
    "plt.title(\"Frequency of treatment based on gender\")"
   ]
  },
  {
   "cell_type": "code",
   "execution_count": 10,
   "metadata": {
    "scrolled": true
   },
   "outputs": [
    {
     "data": {
      "text/plain": [
       "Text(0.5, 1.0, 'Frequency of treatment based on gender')"
      ]
     },
     "execution_count": 10,
     "metadata": {},
     "output_type": "execute_result"
    },
    {
     "data": {
      "image/png": "[encoded data removed]",
      "text/plain": [
       "<Figure size 432x288 with 1 Axes>"
      ]
     },
     "metadata": {
      "needs_background": "light"
     },
     "output_type": "display_data"
    }
   ],
   "source": [
    "# gender could be a important predictor for treatment\n",
    "pd.crosstab(data.gender,data.treatment).plot(kind=\"bar\")\n",
    "plt.xlabel(\"Gender\")\n",
    "plt.ylabel(\"Treatment\")\n",
    "plt.title(\"Frequency of treatment based on gender\")"
   ]
  },
  {
   "cell_type": "code",
   "execution_count": 11,
   "metadata": {},
   "outputs": [
    {
     "data": {
      "text/plain": [
       "<AxesSubplot:>"
      ]
     },
     "execution_count": 11,
     "metadata": {},
     "output_type": "execute_result"
    },
    {
     "data": {
      "image/png": "[encoded data removed]",
      "text/plain": [
       "<Figure size 432x288 with 1 Axes>"
      ]
     },
     "metadata": {
      "needs_background": "light"
     },
     "output_type": "display_data"
    }
   ],
   "source": [
    "# boxplots comparing Test A results in patients that received treatment vs. no treatment\n",
    "TestA_treatment=data.loc[data[\"treatment\"]==1,[\"TestA\"]]\n",
    "TestA_no_treatment=data.loc[data[\"treatment\"]==0,[\"TestA\"]]\n",
    "TestA=pd.concat([TestA_treatment,TestA_no_treatment],axis=1)\n",
    "TestA.columns=[\"TestA_treatment\",\"TestA_no_treatment\"]\n",
    "TestA.boxplot(column=[\"TestA_treatment\",\"TestA_no_treatment\"])"
   ]
  },
  {
   "cell_type": "code",
   "execution_count": 12,
   "metadata": {},
   "outputs": [
    {
     "data": {
      "text/plain": [
       "<AxesSubplot:>"
      ]
     },
     "execution_count": 12,
     "metadata": {},
     "output_type": "execute_result"
    },
    {
     "data": {
      "image/png": "[encoded data removed]",
      "text/plain": [
       "<Figure size 432x288 with 1 Axes>"
      ]
     },
     "metadata": {
      "needs_background": "light"
     },
     "output_type": "display_data"
    }
   ],
   "source": [
    "# boxplots comparing age in patients that received treatment vs. no treatment\n",
    "age_treatment=data.loc[data[\"treatment\"]==1,[\"age\"]]\n",
    "age_no_treatment=data.loc[data[\"treatment\"]==0,[\"age\"]]\n",
    "age=pd.concat([age_treatment,age_no_treatment],axis=1)\n",
    "age.columns=[\"age_treatment\",\"age_no_treatment\"]\n",
    "age.boxplot(column=[\"age_treatment\",\"age_no_treatment\"])"
   ]
  },
  {
   "cell_type": "markdown",
   "metadata": {},
   "source": [
    "# Data Processing"
   ]
  },
  {
   "cell_type": "code",
   "execution_count": 13,
   "metadata": {},
   "outputs": [
    {
     "data": {
      "text/html": [
       "<div>\n",
       "<style scoped>\n",
       "    .dataframe tbody tr th:only-of-type {\n",
       "        vertical-align: middle;\n",
       "    }\n",
       "\n",
       "    .dataframe tbody tr th {\n",
       "        vertical-align: top;\n",
       "    }\n",
       "\n",
       "    .dataframe thead th {\n",
       "        text-align: right;\n",
       "    }\n",
       "</style>\n",
       "<table border=\"1\" class=\"dataframe\">\n",
       "  <thead>\n",
       "    <tr style=\"text-align: right;\">\n",
       "      <th></th>\n",
       "      <th>treatment</th>\n",
       "      <th>age</th>\n",
       "      <th>blood_pressure</th>\n",
       "      <th>gender</th>\n",
       "      <th>blood_test</th>\n",
       "      <th>family_history</th>\n",
       "      <th>TestA</th>\n",
       "      <th>TestB</th>\n",
       "      <th>GeneC</th>\n",
       "      <th>GeneD</th>\n",
       "      <th>GeneE</th>\n",
       "      <th>GeneF</th>\n",
       "    </tr>\n",
       "  </thead>\n",
       "  <tbody>\n",
       "    <tr>\n",
       "      <th>0</th>\n",
       "      <td>0</td>\n",
       "      <td>64</td>\n",
       "      <td>103.820809</td>\n",
       "      <td>non-female</td>\n",
       "      <td>negative</td>\n",
       "      <td>False</td>\n",
       "      <td>4.334376</td>\n",
       "      <td>0.324374</td>\n",
       "      <td>not active</td>\n",
       "      <td>1</td>\n",
       "      <td>1</td>\n",
       "      <td>0</td>\n",
       "    </tr>\n",
       "    <tr>\n",
       "      <th>1</th>\n",
       "      <td>0</td>\n",
       "      <td>52</td>\n",
       "      <td>107.071369</td>\n",
       "      <td>female</td>\n",
       "      <td>negative</td>\n",
       "      <td>False</td>\n",
       "      <td>0.361847</td>\n",
       "      <td>-0.213014</td>\n",
       "      <td>active</td>\n",
       "      <td>1</td>\n",
       "      <td>0</td>\n",
       "      <td>0</td>\n",
       "    </tr>\n",
       "    <tr>\n",
       "      <th>2</th>\n",
       "      <td>1</td>\n",
       "      <td>55</td>\n",
       "      <td>113.116130</td>\n",
       "      <td>female</td>\n",
       "      <td>positive</td>\n",
       "      <td>False</td>\n",
       "      <td>3.611842</td>\n",
       "      <td>-0.071740</td>\n",
       "      <td>not active</td>\n",
       "      <td>0</td>\n",
       "      <td>0</td>\n",
       "      <td>1</td>\n",
       "    </tr>\n",
       "    <tr>\n",
       "      <th>3</th>\n",
       "      <td>0</td>\n",
       "      <td>45</td>\n",
       "      <td>83.760932</td>\n",
       "      <td>female</td>\n",
       "      <td>negative</td>\n",
       "      <td>NaN</td>\n",
       "      <td>-5.282537</td>\n",
       "      <td>-0.237121</td>\n",
       "      <td>active</td>\n",
       "      <td>0</td>\n",
       "      <td>0</td>\n",
       "      <td>0</td>\n",
       "    </tr>\n",
       "    <tr>\n",
       "      <th>4</th>\n",
       "      <td>0</td>\n",
       "      <td>58</td>\n",
       "      <td>131.135933</td>\n",
       "      <td>female</td>\n",
       "      <td>negative</td>\n",
       "      <td>False</td>\n",
       "      <td>2.787207</td>\n",
       "      <td>0.195470</td>\n",
       "      <td>not active</td>\n",
       "      <td>0</td>\n",
       "      <td>1</td>\n",
       "      <td>1</td>\n",
       "    </tr>\n",
       "  </tbody>\n",
       "</table>\n",
       "</div>"
      ],
      "text/plain": [
       "   treatment  age  blood_pressure      gender blood_test family_history  \\\n",
       "0          0   64      103.820809  non-female   negative          False   \n",
       "1          0   52      107.071369      female   negative          False   \n",
       "2          1   55      113.116130      female   positive          False   \n",
       "3          0   45       83.760932      female   negative            NaN   \n",
       "4          0   58      131.135933      female   negative          False   \n",
       "\n",
       "      TestA     TestB       GeneC  GeneD  GeneE  GeneF  \n",
       "0  4.334376  0.324374  not active      1      1      0  \n",
       "1  0.361847 -0.213014      active      1      0      0  \n",
       "2  3.611842 -0.071740  not active      0      0      1  \n",
       "3 -5.282537 -0.237121      active      0      0      0  \n",
       "4  2.787207  0.195470  not active      0      1      1  "
      ]
     },
     "execution_count": 13,
     "metadata": {},
     "output_type": "execute_result"
    }
   ],
   "source": [
    "data.head()"
   ]
  },
  {
   "cell_type": "code",
   "execution_count": 14,
   "metadata": {},
   "outputs": [],
   "source": [
    "num_col=[\"treatment\",\"age\",\"blood_pressure\",\"TestA\",\"TestB\",\"GeneD\",\"GeneE\",\"GeneF\"]\n",
    "cat_col=[\"gender\",\"blood_test\",\"GeneC\"]\n",
    "cat_na=\"family_history\""
   ]
  },
  {
   "cell_type": "code",
   "execution_count": 15,
   "metadata": {},
   "outputs": [],
   "source": [
    "# copy numerical columns into new dataframe\n",
    "num_data=data[num_col]"
   ]
  },
  {
   "cell_type": "code",
   "execution_count": 16,
   "metadata": {},
   "outputs": [
    {
     "name": "stdout",
     "output_type": "stream",
     "text": [
      "['non-female' 'female']\n",
      "['negative' 'positive']\n",
      "['not active' 'active']\n"
     ]
    }
   ],
   "source": [
    "for x in cat_col:\n",
    "    print(data[x].unique())"
   ]
  },
  {
   "cell_type": "code",
   "execution_count": 17,
   "metadata": {
    "scrolled": true
   },
   "outputs": [],
   "source": [
    "cat_data=data[cat_col]"
   ]
  },
  {
   "cell_type": "code",
   "execution_count": 18,
   "metadata": {},
   "outputs": [],
   "source": [
    "# this code deals with categorical data that has only two variables and no nans\n",
    "cat_data=pd.get_dummies(cat_data,drop_first=True)"
   ]
  },
  {
   "cell_type": "code",
   "execution_count": 19,
   "metadata": {
    "scrolled": true
   },
   "outputs": [
    {
     "data": {
      "text/html": [
       "<div>\n",
       "<style scoped>\n",
       "    .dataframe tbody tr th:only-of-type {\n",
       "        vertical-align: middle;\n",
       "    }\n",
       "\n",
       "    .dataframe tbody tr th {\n",
       "        vertical-align: top;\n",
       "    }\n",
       "\n",
       "    .dataframe thead th {\n",
       "        text-align: right;\n",
       "    }\n",
       "</style>\n",
       "<table border=\"1\" class=\"dataframe\">\n",
       "  <thead>\n",
       "    <tr style=\"text-align: right;\">\n",
       "      <th></th>\n",
       "      <th>gender_non-female</th>\n",
       "      <th>blood_test_positive</th>\n",
       "      <th>GeneC_not active</th>\n",
       "    </tr>\n",
       "  </thead>\n",
       "  <tbody>\n",
       "    <tr>\n",
       "      <th>0</th>\n",
       "      <td>1</td>\n",
       "      <td>0</td>\n",
       "      <td>1</td>\n",
       "    </tr>\n",
       "    <tr>\n",
       "      <th>1</th>\n",
       "      <td>0</td>\n",
       "      <td>0</td>\n",
       "      <td>0</td>\n",
       "    </tr>\n",
       "    <tr>\n",
       "      <th>2</th>\n",
       "      <td>0</td>\n",
       "      <td>1</td>\n",
       "      <td>1</td>\n",
       "    </tr>\n",
       "    <tr>\n",
       "      <th>3</th>\n",
       "      <td>0</td>\n",
       "      <td>0</td>\n",
       "      <td>0</td>\n",
       "    </tr>\n",
       "    <tr>\n",
       "      <th>4</th>\n",
       "      <td>0</td>\n",
       "      <td>0</td>\n",
       "      <td>1</td>\n",
       "    </tr>\n",
       "  </tbody>\n",
       "</table>\n",
       "</div>"
      ],
      "text/plain": [
       "   gender_non-female  blood_test_positive  GeneC_not active\n",
       "0                  1                    0                 1\n",
       "1                  0                    0                 0\n",
       "2                  0                    1                 1\n",
       "3                  0                    0                 0\n",
       "4                  0                    0                 1"
      ]
     },
     "execution_count": 19,
     "metadata": {},
     "output_type": "execute_result"
    }
   ],
   "source": [
    "cat_data.head()"
   ]
  },
  {
   "cell_type": "code",
   "execution_count": 20,
   "metadata": {},
   "outputs": [],
   "source": [
    "cat_na_data=data[cat_na]\n",
    "cat_na_data=pd.get_dummies(cat_na_data,drop_first=True,dummy_na=True)"
   ]
  },
  {
   "cell_type": "code",
   "execution_count": 21,
   "metadata": {},
   "outputs": [
    {
     "data": {
      "text/html": [
       "<div>\n",
       "<style scoped>\n",
       "    .dataframe tbody tr th:only-of-type {\n",
       "        vertical-align: middle;\n",
       "    }\n",
       "\n",
       "    .dataframe tbody tr th {\n",
       "        vertical-align: top;\n",
       "    }\n",
       "\n",
       "    .dataframe thead th {\n",
       "        text-align: right;\n",
       "    }\n",
       "</style>\n",
       "<table border=\"1\" class=\"dataframe\">\n",
       "  <thead>\n",
       "    <tr style=\"text-align: right;\">\n",
       "      <th></th>\n",
       "      <th>family_history_True</th>\n",
       "      <th>family_history_NaN</th>\n",
       "    </tr>\n",
       "  </thead>\n",
       "  <tbody>\n",
       "    <tr>\n",
       "      <th>0</th>\n",
       "      <td>0</td>\n",
       "      <td>0</td>\n",
       "    </tr>\n",
       "    <tr>\n",
       "      <th>1</th>\n",
       "      <td>0</td>\n",
       "      <td>0</td>\n",
       "    </tr>\n",
       "    <tr>\n",
       "      <th>2</th>\n",
       "      <td>0</td>\n",
       "      <td>0</td>\n",
       "    </tr>\n",
       "    <tr>\n",
       "      <th>3</th>\n",
       "      <td>0</td>\n",
       "      <td>1</td>\n",
       "    </tr>\n",
       "    <tr>\n",
       "      <th>4</th>\n",
       "      <td>0</td>\n",
       "      <td>0</td>\n",
       "    </tr>\n",
       "  </tbody>\n",
       "</table>\n",
       "</div>"
      ],
      "text/plain": [
       "   family_history_True  family_history_NaN\n",
       "0                    0                   0\n",
       "1                    0                   0\n",
       "2                    0                   0\n",
       "3                    0                   1\n",
       "4                    0                   0"
      ]
     },
     "execution_count": 21,
     "metadata": {},
     "output_type": "execute_result"
    }
   ],
   "source": [
    "cat_na_data.columns=[\"family_history_True\",\"family_history_NaN\"]\n",
    "cat_na_data.head()"
   ]
  },
  {
   "cell_type": "code",
   "execution_count": 22,
   "metadata": {},
   "outputs": [],
   "source": [
    "final_data=pd.concat([num_data,cat_data,cat_na_data],axis=1)"
   ]
  },
  {
   "cell_type": "code",
   "execution_count": 23,
   "metadata": {
    "scrolled": true
   },
   "outputs": [
    {
     "data": {
      "text/html": [
       "<div>\n",
       "<style scoped>\n",
       "    .dataframe tbody tr th:only-of-type {\n",
       "        vertical-align: middle;\n",
       "    }\n",
       "\n",
       "    .dataframe tbody tr th {\n",
       "        vertical-align: top;\n",
       "    }\n",
       "\n",
       "    .dataframe thead th {\n",
       "        text-align: right;\n",
       "    }\n",
       "</style>\n",
       "<table border=\"1\" class=\"dataframe\">\n",
       "  <thead>\n",
       "    <tr style=\"text-align: right;\">\n",
       "      <th></th>\n",
       "      <th>treatment</th>\n",
       "      <th>age</th>\n",
       "      <th>blood_pressure</th>\n",
       "      <th>TestA</th>\n",
       "      <th>TestB</th>\n",
       "      <th>GeneD</th>\n",
       "      <th>GeneE</th>\n",
       "      <th>GeneF</th>\n",
       "      <th>gender_non-female</th>\n",
       "      <th>blood_test_positive</th>\n",
       "      <th>GeneC_not active</th>\n",
       "      <th>family_history_True</th>\n",
       "      <th>family_history_NaN</th>\n",
       "    </tr>\n",
       "  </thead>\n",
       "  <tbody>\n",
       "    <tr>\n",
       "      <th>0</th>\n",
       "      <td>0</td>\n",
       "      <td>64</td>\n",
       "      <td>103.820809</td>\n",
       "      <td>4.334376</td>\n",
       "      <td>0.324374</td>\n",
       "      <td>1</td>\n",
       "      <td>1</td>\n",
       "      <td>0</td>\n",
       "      <td>1</td>\n",
       "      <td>0</td>\n",
       "      <td>1</td>\n",
       "      <td>0</td>\n",
       "      <td>0</td>\n",
       "    </tr>\n",
       "    <tr>\n",
       "      <th>1</th>\n",
       "      <td>0</td>\n",
       "      <td>52</td>\n",
       "      <td>107.071369</td>\n",
       "      <td>0.361847</td>\n",
       "      <td>-0.213014</td>\n",
       "      <td>1</td>\n",
       "      <td>0</td>\n",
       "      <td>0</td>\n",
       "      <td>0</td>\n",
       "      <td>0</td>\n",
       "      <td>0</td>\n",
       "      <td>0</td>\n",
       "      <td>0</td>\n",
       "    </tr>\n",
       "    <tr>\n",
       "      <th>2</th>\n",
       "      <td>1</td>\n",
       "      <td>55</td>\n",
       "      <td>113.116130</td>\n",
       "      <td>3.611842</td>\n",
       "      <td>-0.071740</td>\n",
       "      <td>0</td>\n",
       "      <td>0</td>\n",
       "      <td>1</td>\n",
       "      <td>0</td>\n",
       "      <td>1</td>\n",
       "      <td>1</td>\n",
       "      <td>0</td>\n",
       "      <td>0</td>\n",
       "    </tr>\n",
       "    <tr>\n",
       "      <th>3</th>\n",
       "      <td>0</td>\n",
       "      <td>45</td>\n",
       "      <td>83.760932</td>\n",
       "      <td>-5.282537</td>\n",
       "      <td>-0.237121</td>\n",
       "      <td>0</td>\n",
       "      <td>0</td>\n",
       "      <td>0</td>\n",
       "      <td>0</td>\n",
       "      <td>0</td>\n",
       "      <td>0</td>\n",
       "      <td>0</td>\n",
       "      <td>1</td>\n",
       "    </tr>\n",
       "    <tr>\n",
       "      <th>4</th>\n",
       "      <td>0</td>\n",
       "      <td>58</td>\n",
       "      <td>131.135933</td>\n",
       "      <td>2.787207</td>\n",
       "      <td>0.195470</td>\n",
       "      <td>0</td>\n",
       "      <td>1</td>\n",
       "      <td>1</td>\n",
       "      <td>0</td>\n",
       "      <td>0</td>\n",
       "      <td>1</td>\n",
       "      <td>0</td>\n",
       "      <td>0</td>\n",
       "    </tr>\n",
       "  </tbody>\n",
       "</table>\n",
       "</div>"
      ],
      "text/plain": [
       "   treatment  age  blood_pressure     TestA     TestB  GeneD  GeneE  GeneF  \\\n",
       "0          0   64      103.820809  4.334376  0.324374      1      1      0   \n",
       "1          0   52      107.071369  0.361847 -0.213014      1      0      0   \n",
       "2          1   55      113.116130  3.611842 -0.071740      0      0      1   \n",
       "3          0   45       83.760932 -5.282537 -0.237121      0      0      0   \n",
       "4          0   58      131.135933  2.787207  0.195470      0      1      1   \n",
       "\n",
       "   gender_non-female  blood_test_positive  GeneC_not active  \\\n",
       "0                  1                    0                 1   \n",
       "1                  0                    0                 0   \n",
       "2                  0                    1                 1   \n",
       "3                  0                    0                 0   \n",
       "4                  0                    0                 1   \n",
       "\n",
       "   family_history_True  family_history_NaN  \n",
       "0                    0                   0  \n",
       "1                    0                   0  \n",
       "2                    0                   0  \n",
       "3                    0                   1  \n",
       "4                    0                   0  "
      ]
     },
     "execution_count": 23,
     "metadata": {},
     "output_type": "execute_result"
    }
   ],
   "source": [
    "final_data.head()"
   ]
  },
  {
   "cell_type": "markdown",
   "metadata": {},
   "source": [
    "# test train split"
   ]
  },
  {
   "cell_type": "code",
   "execution_count": 24,
   "metadata": {},
   "outputs": [],
   "source": [
    "from sklearn.linear_model import LogisticRegression\n",
    "from sklearn.model_selection import train_test_split"
   ]
  },
  {
   "cell_type": "code",
   "execution_count": 25,
   "metadata": {},
   "outputs": [],
   "source": [
    "X_train, X_test, y_train, y_test = train_test_split(final_data.drop('treatment',axis=1), \n",
    "                                                    final_data['treatment'], \n",
    "                                                    test_size=0.20, \n",
    "                                                    random_state=42\n",
    "                                                    )"
   ]
  },
  {
   "cell_type": "markdown",
   "metadata": {},
   "source": [
    "# Logistic Regression"
   ]
  },
  {
   "cell_type": "code",
   "execution_count": 26,
   "metadata": {},
   "outputs": [],
   "source": [
    "logmodel=LogisticRegression(solver=\"liblinear\",penalty=\"l2\")\n",
    "logmodel.fit(X_train,y_train)\n",
    "predictions = logmodel.predict(X_test)"
   ]
  },
  {
   "cell_type": "markdown",
   "metadata": {},
   "source": [
    "# Random Forest Classifier"
   ]
  },
  {
   "cell_type": "code",
   "execution_count": 27,
   "metadata": {},
   "outputs": [],
   "source": [
    "from sklearn.ensemble import RandomForestClassifier"
   ]
  },
  {
   "cell_type": "code",
   "execution_count": 28,
   "metadata": {},
   "outputs": [],
   "source": [
    "rf_model = RandomForestClassifier(n_jobs=2, random_state=0)"
   ]
  },
  {
   "cell_type": "code",
   "execution_count": 29,
   "metadata": {},
   "outputs": [
    {
     "data": {
      "text/plain": [
       "RandomForestClassifier(n_jobs=2, random_state=0)"
      ]
     },
     "execution_count": 29,
     "metadata": {},
     "output_type": "execute_result"
    }
   ],
   "source": [
    "rf_model.fit(X_train,y_train)"
   ]
  },
  {
   "cell_type": "code",
   "execution_count": 30,
   "metadata": {},
   "outputs": [],
   "source": [
    "rf_prediction=rf_model.predict(X_test)"
   ]
  },
  {
   "cell_type": "markdown",
   "metadata": {},
   "source": [
    "# Evaluation"
   ]
  },
  {
   "cell_type": "markdown",
   "metadata": {},
   "source": [
    "k-fold cross-validation"
   ]
  },
  {
   "cell_type": "code",
   "execution_count": 31,
   "metadata": {},
   "outputs": [],
   "source": [
    "from sklearn.metrics import mean_squared_error\n",
    "from sklearn.model_selection import cross_val_score"
   ]
  },
  {
   "cell_type": "code",
   "execution_count": 32,
   "metadata": {},
   "outputs": [],
   "source": [
    "\n",
    "def display_scores(scores):\n",
    "    print(\"ROC-AUC score:\")\n",
    "    np.set_printoptions(precision=2,suppress=True)\n",
    "    print(f\"scores: {scores}\")\n",
    "    print(\"mean:\", f\"{scores.mean():.4f}\")\n",
    "    print(\"std:\", f\"{scores.std():.4f}\")"
   ]
  },
  {
   "cell_type": "code",
   "execution_count": 33,
   "metadata": {
    "scrolled": true
   },
   "outputs": [
    {
     "name": "stdout",
     "output_type": "stream",
     "text": [
      "ROC-AUC score:\n",
      "scores: [0.79 0.8  0.79 0.77 0.82 0.82 0.8  0.81 0.81 0.78]\n",
      "mean: 0.8000\n",
      "std: 0.0157\n"
     ]
    }
   ],
   "source": [
    "# scores for logistic regression\n",
    "scores=cross_val_score(logmodel,final_data.drop('treatment',axis=1), final_data['treatment'],scoring=\"roc_auc\",cv=10)\n",
    "display_scores(scores)"
   ]
  },
  {
   "cell_type": "code",
   "execution_count": 34,
   "metadata": {},
   "outputs": [
    {
     "name": "stdout",
     "output_type": "stream",
     "text": [
      "ROC-AUC score:\n",
      "scores: [0.97 0.96 0.96 0.96 0.97 0.95 0.96 0.96 0.96 0.95]\n",
      "mean: 0.9593\n",
      "std: 0.0065\n"
     ]
    }
   ],
   "source": [
    "# scores for random forest\n",
    "\n",
    "rf_scores=cross_val_score(rf_model,final_data.drop('treatment',axis=1), final_data['treatment'],scoring=\"roc_auc\",cv=10)\n",
    "display_scores(rf_scores)"
   ]
  },
  {
   "cell_type": "markdown",
   "metadata": {},
   "source": [
    "classification scores for logistic model"
   ]
  },
  {
   "cell_type": "code",
   "execution_count": 35,
   "metadata": {
    "scrolled": false
   },
   "outputs": [
    {
     "name": "stdout",
     "output_type": "stream",
     "text": [
      "              precision    recall  f1-score   support\n",
      "\n",
      "           0       0.72      0.66      0.69       637\n",
      "           1       0.76      0.81      0.79       862\n",
      "\n",
      "    accuracy                           0.75      1499\n",
      "   macro avg       0.74      0.74      0.74      1499\n",
      "weighted avg       0.75      0.75      0.75      1499\n",
      "\n"
     ]
    }
   ],
   "source": [
    "from sklearn.metrics import classification_report\n",
    "print(classification_report(y_test,predictions))"
   ]
  },
  {
   "cell_type": "code",
   "execution_count": 36,
   "metadata": {},
   "outputs": [
    {
     "data": {
      "text/plain": [
       "<sklearn.metrics._plot.confusion_matrix.ConfusionMatrixDisplay at 0x12c7a33a0>"
      ]
     },
     "execution_count": 36,
     "metadata": {},
     "output_type": "execute_result"
    },
    {
     "data": {
      "image/png": "[encoded data removed]",
      "text/plain": [
       "<Figure size 432x288 with 2 Axes>"
      ]
     },
     "metadata": {
      "needs_background": "light"
     },
     "output_type": "display_data"
    }
   ],
   "source": [
    "from sklearn.metrics import plot_confusion_matrix\n",
    "plot_confusion_matrix(logmodel, X_test, y_test)"
   ]
  },
  {
   "cell_type": "markdown",
   "metadata": {},
   "source": [
    "classification scores for random forest"
   ]
  },
  {
   "cell_type": "code",
   "execution_count": 37,
   "metadata": {
    "scrolled": true
   },
   "outputs": [
    {
     "name": "stdout",
     "output_type": "stream",
     "text": [
      "              precision    recall  f1-score   support\n",
      "\n",
      "           0       0.86      0.89      0.87       637\n",
      "           1       0.91      0.89      0.90       862\n",
      "\n",
      "    accuracy                           0.89      1499\n",
      "   macro avg       0.88      0.89      0.89      1499\n",
      "weighted avg       0.89      0.89      0.89      1499\n",
      "\n"
     ]
    }
   ],
   "source": [
    "print(classification_report(y_test,rf_prediction))"
   ]
  },
  {
   "cell_type": "code",
   "execution_count": 38,
   "metadata": {},
   "outputs": [
    {
     "data": {
      "text/plain": [
       "<sklearn.metrics._plot.confusion_matrix.ConfusionMatrixDisplay at 0x12c7fff70>"
      ]
     },
     "execution_count": 38,
     "metadata": {},
     "output_type": "execute_result"
    },
    {
     "data": {
      "image/png": "[encoded data removed]",
      "text/plain": [
       "<Figure size 432x288 with 2 Axes>"
      ]
     },
     "metadata": {
      "needs_background": "light"
     },
     "output_type": "display_data"
    }
   ],
   "source": [
    "plot_confusion_matrix(rf_model, X_test, y_test)"
   ]
  },
  {
   "cell_type": "markdown",
   "metadata": {},
   "source": [
    "ROC-AUC for logistic model"
   ]
  },
  {
   "cell_type": "code",
   "execution_count": 39,
   "metadata": {
    "scrolled": false
   },
   "outputs": [
    {
     "data": {
      "image/png": "[encoded data removed]",
      "text/plain": [
       "<Figure size 432x288 with 1 Axes>"
      ]
     },
     "metadata": {
      "needs_background": "light"
     },
     "output_type": "display_data"
    }
   ],
   "source": [
    "import matplotlib.pyplot as plt\n",
    "from sklearn.metrics import roc_auc_score\n",
    "from sklearn.metrics import roc_curve\n",
    "logit_roc_auc = roc_auc_score(y_test, logmodel.predict(X_test))\n",
    "fpr, tpr, thresholds = roc_curve(y_test, logmodel.predict_proba(X_test)[:,1])\n",
    "plt.figure()\n",
    "plt.plot(fpr, tpr, label='Logistic Regression (area = %0.2f)' % logit_roc_auc)\n",
    "plt.plot([0, 1], [0, 1],'r--')\n",
    "plt.xlim([0.0, 1.0])\n",
    "plt.ylim([0.0, 1.05])\n",
    "plt.xlabel('False Positive Rate')\n",
    "plt.ylabel('True Positive Rate')\n",
    "plt.title('Receiver operating characteristic')\n",
    "plt.legend(loc=\"lower right\")\n",
    "plt.savefig('Log_ROC')\n",
    "plt.show()"
   ]
  },
  {
   "cell_type": "markdown",
   "metadata": {},
   "source": [
    "ROC-AUC for random forest"
   ]
  },
  {
   "cell_type": "code",
   "execution_count": 54,
   "metadata": {},
   "outputs": [
    {
     "data": {
      "image/png": "[encoded data removed]",
      "text/plain": [
       "<Figure size 432x288 with 1 Axes>"
      ]
     },
     "metadata": {
      "needs_background": "light"
     },
     "output_type": "display_data"
    }
   ],
   "source": [
    "rf_roc_auc = roc_auc_score(y_test, rf_model.predict(X_test))\n",
    "fpr, tpr, thresholds = roc_curve(y_test, rf_model.predict_proba(X_test)[:,1])\n",
    "plt.figure()\n",
    "plt.plot(fpr, tpr, label='Random Forest Classification (area = %0.2f)' % rf_roc_auc)\n",
    "plt.plot([0, 1], [0, 1],'r--')\n",
    "plt.xlim([0.0, 1.0])\n",
    "plt.ylim([0.0, 1.05])\n",
    "plt.xlabel('False Positive Rate')\n",
    "plt.ylabel('True Positive Rate')\n",
    "plt.title('Receiver operating characteristic')\n",
    "plt.legend(loc=\"lower right\")\n",
    "plt.savefig('random_ROC')\n",
    "plt.show()"
   ]
  },
  {
   "cell_type": "markdown",
   "metadata": {},
   "source": [
    "# Fine-Tuning"
   ]
  },
  {
   "cell_type": "markdown",
   "metadata": {},
   "source": [
    "Despite that random forest classifier performs so much better than logistic regression, we still choose to use logistic regression as our final model for this report due to the model's high interpretability."
   ]
  },
  {
   "cell_type": "code",
   "execution_count": 41,
   "metadata": {},
   "outputs": [],
   "source": [
    "from sklearn.model_selection import GridSearchCV"
   ]
  },
  {
   "cell_type": "code",
   "execution_count": 42,
   "metadata": {},
   "outputs": [],
   "source": [
    "penalty=[\"l1\", \"l2\", \"elasticnet\", \"none\"]\n",
    "solver=[\"newton-cg\", \"lbfgs\", \"liblinear\", \"sag\", \"saga\"]"
   ]
  },
  {
   "cell_type": "code",
   "execution_count": 43,
   "metadata": {},
   "outputs": [
    {
     "name": "stdout",
     "output_type": "stream",
     "text": [
      "Fitting 10 folds for each of 20 candidates, totalling 200 fits\n"
     ]
    },
    {
     "name": "stderr",
     "output_type": "stream",
     "text": [
      "/Users/wingyan01pd2016/sklearn/model_selection/_search.py:918: UserWarning: One or more of the test scores are non-finite: [ nan  nan 0.8   nan 0.79 0.8  0.8  0.8  0.8  0.79  nan  nan  nan  nan\n",
      "  nan 0.8  0.8   nan 0.8  0.79]\n",
      "  warnings.warn(\n"
     ]
    }
   ],
   "source": [
    "\n",
    "param_grid = dict(penalty=penalty,solver=solver)\n",
    "grid = GridSearchCV(estimator=logmodel, param_grid=param_grid, scoring='roc_auc', verbose=3, n_jobs=-1,cv=10)\n",
    "grid_result = grid.fit(final_data.drop('treatment',axis=1), final_data['treatment'])"
   ]
  },
  {
   "cell_type": "code",
   "execution_count": 44,
   "metadata": {
    "scrolled": true
   },
   "outputs": [
    {
     "name": "stdout",
     "output_type": "stream",
     "text": [
      "Best Score:  0.8000092880427809\n",
      "Best Params:  {'penalty': 'l2', 'solver': 'liblinear'}\n"
     ]
    }
   ],
   "source": [
    "print('Best Score: ', grid_result.best_score_)\n",
    "print('Best Params: ', grid_result.best_params_)"
   ]
  },
  {
   "cell_type": "markdown",
   "metadata": {},
   "source": [
    "# Final model after fine-tuning"
   ]
  },
  {
   "cell_type": "code",
   "execution_count": 45,
   "metadata": {},
   "outputs": [],
   "source": [
    "final_model=LogisticRegression(solver=\"liblinear\",penalty=\"l1\")\n",
    "final_model.fit(X_train,y_train)\n",
    "final_pred = final_model.predict(X_test)"
   ]
  },
  {
   "cell_type": "code",
   "execution_count": 46,
   "metadata": {
    "scrolled": false
   },
   "outputs": [
    {
     "name": "stderr",
     "output_type": "stream",
     "text": [
      "/Users/wingyan01pd2016/sklearn/svm/_base.py:985: ConvergenceWarning: Liblinear failed to converge, increase the number of iterations.\n",
      "  warnings.warn(\"Liblinear failed to converge, increase \"\n",
      "/Users/wingyan01pd2016/sklearn/svm/_base.py:985: ConvergenceWarning: Liblinear failed to converge, increase the number of iterations.\n",
      "  warnings.warn(\"Liblinear failed to converge, increase \"\n",
      "/Users/wingyan01pd2016/sklearn/svm/_base.py:985: ConvergenceWarning: Liblinear failed to converge, increase the number of iterations.\n",
      "  warnings.warn(\"Liblinear failed to converge, increase \"\n"
     ]
    },
    {
     "name": "stdout",
     "output_type": "stream",
     "text": [
      "ROC-AUC score:\n",
      "scores: [0.79 0.8  0.79 0.77 0.82 0.83 0.8  0.81 0.81 0.78]\n",
      "mean: 0.7999\n",
      "std: 0.0160\n"
     ]
    }
   ],
   "source": [
    "final_scores=cross_val_score(final_model,final_data.drop('treatment',axis=1), final_data['treatment'],scoring=\"roc_auc\",cv=10)\n",
    "display_scores(final_scores)"
   ]
  },
  {
   "cell_type": "code",
   "execution_count": 56,
   "metadata": {},
   "outputs": [
    {
     "data": {
      "image/png": "[encoded data removed]",
      "text/plain": [
       "<Figure size 432x288 with 1 Axes>"
      ]
     },
     "metadata": {
      "needs_background": "light"
     },
     "output_type": "display_data"
    }
   ],
   "source": [
    "final_roc_auc = roc_auc_score(y_test, final_model.predict(X_test))\n",
    "fpr, tpr, thresholds = roc_curve(y_test, final_model.predict_proba(X_test)[:,1])\n",
    "plt.figure()\n",
    "plt.plot(fpr, tpr, label='Logistic Regression (area = %0.2f)' % final_roc_auc)\n",
    "plt.plot([0, 1], [0, 1],'r--')\n",
    "plt.xlim([0.0, 1.0])\n",
    "plt.ylim([0.0, 1.05])\n",
    "plt.xlabel('False Positive Rate')\n",
    "plt.ylabel('True Positive Rate')\n",
    "plt.title('Receiver operating characteristic')\n",
    "plt.legend(loc=\"lower right\")\n",
    "plt.savefig('final_ROC')\n",
    "plt.show()"
   ]
  },
  {
   "cell_type": "markdown",
   "metadata": {},
   "source": [
    "# Feature Importance"
   ]
  },
  {
   "cell_type": "code",
   "execution_count": 48,
   "metadata": {
    "scrolled": true
   },
   "outputs": [],
   "source": [
    "from matplotlib import pyplot"
   ]
  },
  {
   "cell_type": "code",
   "execution_count": 49,
   "metadata": {},
   "outputs": [],
   "source": [
    "importance = final_model.coef_[0]"
   ]
  },
  {
   "cell_type": "code",
   "execution_count": 50,
   "metadata": {},
   "outputs": [
    {
     "name": "stdout",
     "output_type": "stream",
     "text": [
      "Feature: 0, Score: -0.05140\n",
      "Feature: 1, Score: 0.02417\n",
      "Feature: 2, Score: -0.02897\n",
      "Feature: 3, Score: -1.33111\n",
      "Feature: 4, Score: -0.05396\n",
      "Feature: 5, Score: -0.28476\n",
      "Feature: 6, Score: -0.11366\n",
      "Feature: 7, Score: -2.25971\n",
      "Feature: 8, Score: -0.27653\n",
      "Feature: 9, Score: 0.00000\n",
      "Feature: 10, Score: 2.44831\n",
      "Feature: 11, Score: 0.07237\n"
     ]
    }
   ],
   "source": [
    "for i,v in enumerate(importance):\n",
    "    print('Feature: %0d, Score: %.5f' % (i,v))"
   ]
  },
  {
   "cell_type": "code",
   "execution_count": 51,
   "metadata": {},
   "outputs": [
    {
     "name": "stdout",
     "output_type": "stream",
     "text": [
      "3 features, reduction of 75.00%\n"
     ]
    },
    {
     "data": {
      "text/plain": [
       "<AxesSubplot:>"
      ]
     },
     "execution_count": 51,
     "metadata": {},
     "output_type": "execute_result"
    },
    {
     "data": {
      "image/png": "[encoded data removed]",
      "text/plain": [
       "<Figure size 1296x432 with 1 Axes>"
      ]
     },
     "metadata": {
      "needs_background": "light"
     },
     "output_type": "display_data"
    }
   ],
   "source": [
    "# display feature importance with positive and negative values\n",
    "feature_importance = pd.Series(index = final_data.drop(\"treatment\",axis=1).columns, data = importance)\n",
    "n_selected_features = (feature_importance>0).sum()\n",
    "print('{0} features, reduction of {1:2.2f}%'.format(\n",
    "    n_selected_features,(1-n_selected_features/len(feature_importance))*100))\n",
    "\n",
    "feature_importance.sort_values().tail(30).plot(kind = 'bar', figsize = (18,6))"
   ]
  },
  {
   "cell_type": "code",
   "execution_count": 52,
   "metadata": {},
   "outputs": [
    {
     "name": "stdout",
     "output_type": "stream",
     "text": [
      "11 features, reduction of 8.33%\n"
     ]
    },
    {
     "data": {
      "text/plain": [
       "<AxesSubplot:>"
      ]
     },
     "execution_count": 52,
     "metadata": {},
     "output_type": "execute_result"
    },
    {
     "data": {
      "image/png": "[encoded data removed]",
      "text/plain": [
       "<Figure size 1296x432 with 1 Axes>"
      ]
     },
     "metadata": {
      "needs_background": "light"
     },
     "output_type": "display_data"
    }
   ],
   "source": [
    "# display feature importance with absolute values\n",
    "feature_importance = pd.Series(index = final_data.drop(\"treatment\",axis=1).columns, data = abs(importance))\n",
    "n_selected_features = (feature_importance>0).sum()\n",
    "print('{0} features, reduction of {1:2.2f}%'.format(\n",
    "    n_selected_features,(1-n_selected_features/len(feature_importance))*100))\n",
    "\n",
    "feature_importance.sort_values().tail(30).plot(kind = 'bar', figsize = (18,6))"
   ]
  },
  {
   "cell_type": "markdown",
   "metadata": {},
   "source": [
    "# Testing for Multicollinearity"
   ]
  },
  {
   "cell_type": "code",
   "execution_count": 57,
   "metadata": {
    "scrolled": true
   },
   "outputs": [],
   "source": [
    "from statsmodels.stats.outliers_influence import variance_inflation_factor "
   ]
  },
  {
   "cell_type": "code",
   "execution_count": 65,
   "metadata": {},
   "outputs": [],
   "source": [
    "features=final_data.drop([\"treatment\"],axis=1)\n",
    "target=final_data[\"treatment\"]"
   ]
  },
  {
   "cell_type": "code",
   "execution_count": 67,
   "metadata": {},
   "outputs": [],
   "source": [
    "vif=pd.DataFrame()\n",
    "vif[\"features\"]=features.columns"
   ]
  },
  {
   "cell_type": "code",
   "execution_count": 79,
   "metadata": {},
   "outputs": [],
   "source": [
    "vif[\"VIF_score\"]=[variance_inflation_factor(features.values, i) for i in range(len(features.columns))]"
   ]
  },
  {
   "cell_type": "code",
   "execution_count": 77,
   "metadata": {
    "scrolled": true
   },
   "outputs": [
    {
     "data": {
      "text/html": [
       "<div>\n",
       "<style scoped>\n",
       "    .dataframe tbody tr th:only-of-type {\n",
       "        vertical-align: middle;\n",
       "    }\n",
       "\n",
       "    .dataframe tbody tr th {\n",
       "        vertical-align: top;\n",
       "    }\n",
       "\n",
       "    .dataframe thead th {\n",
       "        text-align: right;\n",
       "    }\n",
       "</style>\n",
       "<table border=\"1\" class=\"dataframe\">\n",
       "  <thead>\n",
       "    <tr style=\"text-align: right;\">\n",
       "      <th></th>\n",
       "      <th>features</th>\n",
       "      <th>VIF_score</th>\n",
       "    </tr>\n",
       "  </thead>\n",
       "  <tbody>\n",
       "    <tr>\n",
       "      <th>0</th>\n",
       "      <td>age</td>\n",
       "      <td>82.362303</td>\n",
       "    </tr>\n",
       "    <tr>\n",
       "      <th>1</th>\n",
       "      <td>blood_pressure</td>\n",
       "      <td>56.072473</td>\n",
       "    </tr>\n",
       "    <tr>\n",
       "      <th>2</th>\n",
       "      <td>TestA</td>\n",
       "      <td>5.064502</td>\n",
       "    </tr>\n",
       "    <tr>\n",
       "      <th>3</th>\n",
       "      <td>TestB</td>\n",
       "      <td>1.001607</td>\n",
       "    </tr>\n",
       "    <tr>\n",
       "      <th>4</th>\n",
       "      <td>GeneD</td>\n",
       "      <td>2.217082</td>\n",
       "    </tr>\n",
       "    <tr>\n",
       "      <th>5</th>\n",
       "      <td>GeneE</td>\n",
       "      <td>2.223783</td>\n",
       "    </tr>\n",
       "    <tr>\n",
       "      <th>6</th>\n",
       "      <td>GeneF</td>\n",
       "      <td>2.226234</td>\n",
       "    </tr>\n",
       "    <tr>\n",
       "      <th>7</th>\n",
       "      <td>gender_non-female</td>\n",
       "      <td>1.611693</td>\n",
       "    </tr>\n",
       "    <tr>\n",
       "      <th>8</th>\n",
       "      <td>blood_test_positive</td>\n",
       "      <td>1.095354</td>\n",
       "    </tr>\n",
       "    <tr>\n",
       "      <th>9</th>\n",
       "      <td>GeneC_not active</td>\n",
       "      <td>2.225147</td>\n",
       "    </tr>\n",
       "    <tr>\n",
       "      <th>10</th>\n",
       "      <td>family_history_True</td>\n",
       "      <td>1.016673</td>\n",
       "    </tr>\n",
       "    <tr>\n",
       "      <th>11</th>\n",
       "      <td>family_history_NaN</td>\n",
       "      <td>1.541849</td>\n",
       "    </tr>\n",
       "  </tbody>\n",
       "</table>\n",
       "</div>"
      ],
      "text/plain": [
       "               features  VIF_score\n",
       "0                   age  82.362303\n",
       "1        blood_pressure  56.072473\n",
       "2                 TestA   5.064502\n",
       "3                 TestB   1.001607\n",
       "4                 GeneD   2.217082\n",
       "5                 GeneE   2.223783\n",
       "6                 GeneF   2.226234\n",
       "7     gender_non-female   1.611693\n",
       "8   blood_test_positive   1.095354\n",
       "9      GeneC_not active   2.225147\n",
       "10  family_history_True   1.016673\n",
       "11   family_history_NaN   1.541849"
      ]
     },
     "execution_count": 77,
     "metadata": {},
     "output_type": "execute_result"
    }
   ],
   "source": [
    "vif"
   ]
  },
  {
   "cell_type": "code",
   "execution_count": null,
   "metadata": {},
   "outputs": [],
   "source": []
  }
 ],
 "metadata": {
  "kernelspec": {
   "display_name": "Python 3",
   "language": "python",
   "name": "python3"
  },
  "language_info": {
   "codemirror_mode": {
    "name": "ipython",
    "version": 3
   },
   "file_extension": ".py",
   "mimetype": "text/x-python",
   "name": "python",
   "nbconvert_exporter": "python",
   "pygments_lexer": "ipython3",
   "version": "3.8.3"
  }
 },
 "nbformat": 4,
 "nbformat_minor": 4
}
